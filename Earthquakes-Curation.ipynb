{
 "metadata": {
  "name": "Earthquakes-Curation"
 },
 "nbformat": 3,
 "nbformat_minor": 0,
 "worksheets": [
  {
   "cells": [
    {
     "cell_type": "markdown",
     "metadata": {},
     "source": [
      "Use [urllib](http://docs.python.org/2/library/urllib.html) to open arbitrary resources by URL and pass that data to the [read_csv](http://pandas.pydata.org/pandas-docs/stable/generated/pandas.io.parsers.read_csv.html) function of pandas. Then print out the first few rows of data using pandas [Indexing and Selecting Data](http://pandas.pydata.org/pandas-docs/dev/indexing.html)."
     ]
    },
    {
     "cell_type": "code",
     "collapsed": false,
     "input": [
      "import urllib\n",
      "from pandas import read_csv\n",
      "\n",
      "\n",
      "url = 'http://earthquake.usgs.gov/earthquakes/catalogs/eqs7day-M1.txt'\n",
      "data = read_csv(urllib.urlopen(url))\n",
      "\n",
      "data[0:10]"
     ],
     "language": "python",
     "metadata": {},
     "outputs": [
      {
       "html": [
        "<div style=\"max-height:1000px;max-width:1500px;overflow:auto;\">\n",
        "<table border=\"1\" class=\"dataframe\">\n",
        "  <thead>\n",
        "    <tr style=\"text-align: right;\">\n",
        "      <th></th>\n",
        "      <th>Src</th>\n",
        "      <th>Eqid</th>\n",
        "      <th>Version</th>\n",
        "      <th>Datetime</th>\n",
        "      <th>Lat</th>\n",
        "      <th>Lon</th>\n",
        "      <th>Magnitude</th>\n",
        "      <th>Depth</th>\n",
        "      <th>NST</th>\n",
        "      <th>Region</th>\n",
        "    </tr>\n",
        "  </thead>\n",
        "  <tbody>\n",
        "    <tr>\n",
        "      <th>0</th>\n",
        "      <td> This USGS data file has been deprecated. To co...</td>\n",
        "      <td>      NaN</td>\n",
        "      <td> NaN</td>\n",
        "      <td>                                     NaN</td>\n",
        "      <td>     NaN</td>\n",
        "      <td>      NaN</td>\n",
        "      <td> NaN</td>\n",
        "      <td>  NaN</td>\n",
        "      <td>NaN</td>\n",
        "      <td>                 NaN</td>\n",
        "    </tr>\n",
        "    <tr>\n",
        "      <th>1</th>\n",
        "      <td>                                                nn</td>\n",
        "      <td> 00426788</td>\n",
        "      <td>   1</td>\n",
        "      <td>   Sunday, October 20, 2013 00:11:25 UTC</td>\n",
        "      <td> 38.3145</td>\n",
        "      <td>-119.5018</td>\n",
        "      <td> 1.3</td>\n",
        "      <td> 17.2</td>\n",
        "      <td>  5</td>\n",
        "      <td>  Central California</td>\n",
        "    </tr>\n",
        "    <tr>\n",
        "      <th>2</th>\n",
        "      <td>                                                ak</td>\n",
        "      <td> 10827035</td>\n",
        "      <td>   1</td>\n",
        "      <td> Saturday, October 19, 2013 23:58:33 UTC</td>\n",
        "      <td> 63.5517</td>\n",
        "      <td>-150.7706</td>\n",
        "      <td> 2.5</td>\n",
        "      <td>  5.0</td>\n",
        "      <td> 22</td>\n",
        "      <td>      Central Alaska</td>\n",
        "    </tr>\n",
        "    <tr>\n",
        "      <th>3</th>\n",
        "      <td>                                                nn</td>\n",
        "      <td> 00426787</td>\n",
        "      <td>   1</td>\n",
        "      <td> Saturday, October 19, 2013 23:30:29 UTC</td>\n",
        "      <td> 40.8975</td>\n",
        "      <td>-118.6505</td>\n",
        "      <td> 2.4</td>\n",
        "      <td>  8.8</td>\n",
        "      <td> 17</td>\n",
        "      <td>              Nevada</td>\n",
        "    </tr>\n",
        "    <tr>\n",
        "      <th>4</th>\n",
        "      <td>                                                ak</td>\n",
        "      <td> 10827027</td>\n",
        "      <td>   1</td>\n",
        "      <td> Saturday, October 19, 2013 23:19:24 UTC</td>\n",
        "      <td> 62.4876</td>\n",
        "      <td>-151.5861</td>\n",
        "      <td> 2.0</td>\n",
        "      <td> 91.2</td>\n",
        "      <td> 19</td>\n",
        "      <td>      Central Alaska</td>\n",
        "    </tr>\n",
        "    <tr>\n",
        "      <th>5</th>\n",
        "      <td>                                                ci</td>\n",
        "      <td> 11380970</td>\n",
        "      <td>   2</td>\n",
        "      <td> Saturday, October 19, 2013 23:00:22 UTC</td>\n",
        "      <td> 34.2318</td>\n",
        "      <td>-117.5148</td>\n",
        "      <td> 1.1</td>\n",
        "      <td>  8.6</td>\n",
        "      <td> 18</td>\n",
        "      <td> Southern California</td>\n",
        "    </tr>\n",
        "    <tr>\n",
        "      <th>6</th>\n",
        "      <td>                                                ci</td>\n",
        "      <td> 11380962</td>\n",
        "      <td>   2</td>\n",
        "      <td> Saturday, October 19, 2013 22:13:50 UTC</td>\n",
        "      <td> 35.0973</td>\n",
        "      <td>-117.1453</td>\n",
        "      <td> 1.4</td>\n",
        "      <td>  7.8</td>\n",
        "      <td> 27</td>\n",
        "      <td> Southern California</td>\n",
        "    </tr>\n",
        "    <tr>\n",
        "      <th>7</th>\n",
        "      <td>                                                ci</td>\n",
        "      <td> 11380954</td>\n",
        "      <td>   2</td>\n",
        "      <td> Saturday, October 19, 2013 21:55:20 UTC</td>\n",
        "      <td> 35.0978</td>\n",
        "      <td>-117.1468</td>\n",
        "      <td> 1.8</td>\n",
        "      <td>  7.5</td>\n",
        "      <td> 34</td>\n",
        "      <td> Southern California</td>\n",
        "    </tr>\n",
        "    <tr>\n",
        "      <th>8</th>\n",
        "      <td>                                                ak</td>\n",
        "      <td> 10827016</td>\n",
        "      <td>   1</td>\n",
        "      <td> Saturday, October 19, 2013 21:38:28 UTC</td>\n",
        "      <td> 62.8070</td>\n",
        "      <td>-149.8005</td>\n",
        "      <td> 1.8</td>\n",
        "      <td> 49.3</td>\n",
        "      <td>  7</td>\n",
        "      <td>      Central Alaska</td>\n",
        "    </tr>\n",
        "    <tr>\n",
        "      <th>9</th>\n",
        "      <td>                                                ak</td>\n",
        "      <td> 10827009</td>\n",
        "      <td>   1</td>\n",
        "      <td> Saturday, October 19, 2013 21:35:47 UTC</td>\n",
        "      <td> 61.5215</td>\n",
        "      <td>-146.5167</td>\n",
        "      <td> 2.3</td>\n",
        "      <td> 29.1</td>\n",
        "      <td> 29</td>\n",
        "      <td>     Southern Alaska</td>\n",
        "    </tr>\n",
        "  </tbody>\n",
        "</table>\n",
        "</div>"
       ],
       "output_type": "pyout",
       "prompt_number": 53,
       "text": [
        "                                                 Src      Eqid Version  \\\n",
        "0  This USGS data file has been deprecated. To co...       NaN     NaN   \n",
        "1                                                 nn  00426788       1   \n",
        "2                                                 ak  10827035       1   \n",
        "3                                                 nn  00426787       1   \n",
        "4                                                 ak  10827027       1   \n",
        "5                                                 ci  11380970       2   \n",
        "6                                                 ci  11380962       2   \n",
        "7                                                 ci  11380954       2   \n",
        "8                                                 ak  10827016       1   \n",
        "9                                                 ak  10827009       1   \n",
        "\n",
        "                                  Datetime      Lat       Lon  Magnitude  \\\n",
        "0                                      NaN      NaN       NaN        NaN   \n",
        "1    Sunday, October 20, 2013 00:11:25 UTC  38.3145 -119.5018        1.3   \n",
        "2  Saturday, October 19, 2013 23:58:33 UTC  63.5517 -150.7706        2.5   \n",
        "3  Saturday, October 19, 2013 23:30:29 UTC  40.8975 -118.6505        2.4   \n",
        "4  Saturday, October 19, 2013 23:19:24 UTC  62.4876 -151.5861        2.0   \n",
        "5  Saturday, October 19, 2013 23:00:22 UTC  34.2318 -117.5148        1.1   \n",
        "6  Saturday, October 19, 2013 22:13:50 UTC  35.0973 -117.1453        1.4   \n",
        "7  Saturday, October 19, 2013 21:55:20 UTC  35.0978 -117.1468        1.8   \n",
        "8  Saturday, October 19, 2013 21:38:28 UTC  62.8070 -149.8005        1.8   \n",
        "9  Saturday, October 19, 2013 21:35:47 UTC  61.5215 -146.5167        2.3   \n",
        "\n",
        "   Depth  NST               Region  \n",
        "0    NaN  NaN                  NaN  \n",
        "1   17.2    5   Central California  \n",
        "2    5.0   22       Central Alaska  \n",
        "3    8.8   17               Nevada  \n",
        "4   91.2   19       Central Alaska  \n",
        "5    8.6   18  Southern California  \n",
        "6    7.8   27  Southern California  \n",
        "7    7.5   34  Southern California  \n",
        "8   49.3    7       Central Alaska  \n",
        "9   29.1   29      Southern Alaska  "
       ]
      }
     ],
     "prompt_number": 53
    },
    {
     "cell_type": "markdown",
     "metadata": {},
     "source": [
      "**UH OH!** Note that our data is a bit *dirty* and contains a notice that this data feed has been deprecated:"
     ]
    },
    {
     "cell_type": "code",
     "collapsed": false,
     "input": [
      "print data[0:1]['Src'].values[0]"
     ],
     "language": "python",
     "metadata": {},
     "outputs": [
      {
       "output_type": "stream",
       "stream": "stdout",
       "text": [
        "This USGS data file has been deprecated. To continue receiving updates for earthquake information you must switch to the new data format [http://earthquake.usgs.gov/earthquakes/feed/]. In the future, data feeds will be updated and deprecated following our official deprecation policy [http://earthquake.usgs.gov/earthquakes/feed/policy.php].\n"
       ]
      }
     ],
     "prompt_number": 4
    },
    {
     "cell_type": "markdown",
     "metadata": {},
     "source": [
      "We can filter out the dirty data using [dropna](http://pandas.pydata.org/pandas-docs/dev/generated/pandas.DataFrame.dropna.html) to drop any rows that contain **NaN**."
     ]
    },
    {
     "cell_type": "code",
     "collapsed": false,
     "input": [
      "clean_data = data.dropna(axis=0, how='any')\n",
      "clean_data[0:3]"
     ],
     "language": "python",
     "metadata": {},
     "outputs": [
      {
       "html": [
        "<div style=\"max-height:1000px;max-width:1500px;overflow:auto;\">\n",
        "<table border=\"1\" class=\"dataframe\">\n",
        "  <thead>\n",
        "    <tr style=\"text-align: right;\">\n",
        "      <th></th>\n",
        "      <th>Src</th>\n",
        "      <th>Eqid</th>\n",
        "      <th>Version</th>\n",
        "      <th>Datetime</th>\n",
        "      <th>Lat</th>\n",
        "      <th>Lon</th>\n",
        "      <th>Magnitude</th>\n",
        "      <th>Depth</th>\n",
        "      <th>NST</th>\n",
        "      <th>Region</th>\n",
        "    </tr>\n",
        "  </thead>\n",
        "  <tbody>\n",
        "    <tr>\n",
        "      <th>1</th>\n",
        "      <td> nc</td>\n",
        "      <td> 72090926</td>\n",
        "      <td> 0</td>\n",
        "      <td> Saturday, October 19, 2013 19:21:36 UTC</td>\n",
        "      <td> 38.8082</td>\n",
        "      <td>-122.8147</td>\n",
        "      <td> 1.1</td>\n",
        "      <td> 2.6</td>\n",
        "      <td> 15</td>\n",
        "      <td> Northern California</td>\n",
        "    </tr>\n",
        "    <tr>\n",
        "      <th>2</th>\n",
        "      <td> nc</td>\n",
        "      <td> 72090921</td>\n",
        "      <td> 0</td>\n",
        "      <td> Saturday, October 19, 2013 18:31:30 UTC</td>\n",
        "      <td> 38.7863</td>\n",
        "      <td>-122.7638</td>\n",
        "      <td> 1.2</td>\n",
        "      <td> 2.0</td>\n",
        "      <td> 18</td>\n",
        "      <td> Northern California</td>\n",
        "    </tr>\n",
        "    <tr>\n",
        "      <th>3</th>\n",
        "      <td> nc</td>\n",
        "      <td> 72090901</td>\n",
        "      <td> 1</td>\n",
        "      <td> Saturday, October 19, 2013 18:05:07 UTC</td>\n",
        "      <td> 38.7898</td>\n",
        "      <td>-122.7387</td>\n",
        "      <td> 1.8</td>\n",
        "      <td> 2.8</td>\n",
        "      <td> 26</td>\n",
        "      <td> Northern California</td>\n",
        "    </tr>\n",
        "  </tbody>\n",
        "</table>\n",
        "</div>"
       ],
       "output_type": "pyout",
       "prompt_number": 5,
       "text": [
        "  Src      Eqid Version                                 Datetime      Lat  \\\n",
        "1  nc  72090926       0  Saturday, October 19, 2013 19:21:36 UTC  38.8082   \n",
        "2  nc  72090921       0  Saturday, October 19, 2013 18:31:30 UTC  38.7863   \n",
        "3  nc  72090901       1  Saturday, October 19, 2013 18:05:07 UTC  38.7898   \n",
        "\n",
        "        Lon  Magnitude  Depth  NST               Region  \n",
        "1 -122.8147        1.1    2.6   15  Northern California  \n",
        "2 -122.7638        1.2    2.0   18  Northern California  \n",
        "3 -122.7387        1.8    2.8   26  Northern California  "
       ]
      }
     ],
     "prompt_number": 5
    },
    {
     "cell_type": "markdown",
     "metadata": {},
     "source": [
      "In the code above note that I saved the results of `data.dropna()` into a different variable `clean_data` rather than over-writing the old variable `data`. **Why?** Why not just re-use old variable names? And if we did re-use old variable names what extra danger do we have to keep in mind while using the IPython Notebook?"
     ]
    },
    {
     "cell_type": "code",
     "collapsed": false,
     "input": [
      "import urllib\n",
      "import json\n",
      "import pandas as pd\n",
      "from pprint import pprint\n",
      "\n",
      "url = 'http://earthquake.usgs.gov/earthquakes/feed/v1.0/summary/all_day.geojson'\n",
      "quakes = json.loads(urllib.urlopen(url).read())\n",
      "data = pd.DataFrame(d.items())\n",
      "features = data[1].values[1]\n",
      "pprint(features)"
     ],
     "language": "python",
     "metadata": {},
     "outputs": [
      {
       "output_type": "stream",
       "stream": "stdout",
       "text": [
        "[{u'geometry': {u'coordinates': [-118.6505, 40.8975, 8.84],\n",
        "                u'type': u'Point'},\n",
        "  u'id': u'nn00426787',\n",
        "  u'properties': {u'alert': None,\n",
        "                  u'cdi': None,\n",
        "                  u'code': u'00426787',\n",
        "                  u'detail': u'http://earthquake.usgs.gov/earthquakes/feed/v1.0/detail/nn00426787.geojson',\n",
        "                  u'dmin': 1.275,\n",
        "                  u'felt': None,\n",
        "                  u'gap': 286,\n",
        "                  u'ids': u',nn00426787,',\n",
        "                  u'mag': 2.4,\n",
        "                  u'magType': u'ml',\n",
        "                  u'mmi': None,\n",
        "                  u'net': u'nn',\n",
        "                  u'nst': 17,\n",
        "                  u'place': u'70km ENE of Gerlach-Empire, Nevada',\n",
        "                  u'rms': 0.27,\n",
        "                  u'sig': 89,\n",
        "                  u'sources': u',nn,',\n",
        "                  u'status': u'AUTOMATIC',\n",
        "                  u'time': 1382225429390,\n",
        "                  u'title': u'M 2.4 - 70km ENE of Gerlach-Empire, Nevada',\n",
        "                  u'tsunami': None,\n",
        "                  u'type': u'earthquake',\n",
        "                  u'types': u',general-link,geoserve,nearby-cities,origin,',\n",
        "                  u'tz': -420,\n",
        "                  u'updated': 1382225612323,\n",
        "                  u'url': u'http://earthquake.usgs.gov/earthquakes/eventpage/nn00426787'},\n",
        "  u'type': u'Feature'},\n",
        " {u'geometry': {u'coordinates': [-151.5861, 62.4876, 91.2],\n",
        "                u'type': u'Point'},\n",
        "  u'id': u'ak10827027',\n",
        "  u'properties': {u'alert': None,\n",
        "                  u'cdi': None,\n",
        "                  u'code': u'10827027',\n",
        "                  u'detail': u'http://earthquake.usgs.gov/earthquakes/feed/v1.0/detail/ak10827027.geojson',\n",
        "                  u'dmin': None,\n",
        "                  u'felt': None,\n",
        "                  u'gap': None,\n",
        "                  u'ids': u',ak10827027,',\n",
        "                  u'mag': 2,\n",
        "                  u'magType': u'Ml',\n",
        "                  u'mmi': None,\n",
        "                  u'net': u'ak',\n",
        "                  u'nst': None,\n",
        "                  u'place': u'78km WNW of Talkeetna, Alaska',\n",
        "                  u'rms': 0.75,\n",
        "                  u'sig': 62,\n",
        "                  u'sources': u',ak,',\n",
        "                  u'status': u'AUTOMATIC',\n",
        "                  u'time': 1382224764000,\n",
        "                  u'title': u'M 2.0 - 78km WNW of Talkeetna, Alaska',\n",
        "                  u'tsunami': None,\n",
        "                  u'type': u'earthquake',\n",
        "                  u'types': u',general-link,geoserve,nearby-cities,origin,tectonic-summary,',\n",
        "                  u'tz': -480,\n",
        "                  u'updated': 1382225159906,\n",
        "                  u'url': u'http://earthquake.usgs.gov/earthquakes/eventpage/ak10827027'},\n",
        "  u'type': u'Feature'}]\n"
       ]
      }
     ],
     "prompt_number": 364
    },
    {
     "cell_type": "code",
     "collapsed": false,
     "input": [
      "longitudedata = [];\n",
      "for i in range(0,len(quakes['features'])):\n",
      "    longitudedata.append(quakes['features'][i]['geometry']['coordinates'][0])\n",
      "\n",
      "print longitudedata"
     ],
     "language": "python",
     "metadata": {},
     "outputs": [
      {
       "output_type": "stream",
       "stream": "stdout",
       "text": [
        "[-118.8142, -149.0884, -122.729, -122.7298, -122.8297, -122.8283, -119.411, 124.0282, -122.8392, -116.4465, -121.6133, -119.5372, -122.8235, -148.9898, -122.7275, 100.392, -150.7939, -149.4243, -119.5018, -150.7706, -110.303, -118.6505, -151.5861, -117.5148, 154.8243, -122.8262, -110.7486, -117.1453, -117.1468, 124.3151, -149.8005, -146.5167, -68.1155, -121.0975, 124.1788, 123.7041, -117.6545, -148.3567, -124.883, -66.5101, -122.7645, -119.0537, -122.794, -123.2715, -154.2465, -122.8063, -116.2447, -122.8248, -122.8147, -122.7638, -155.1237, -122.7387, -120.5462, -110.1778, 71.1074, -107.1144, -121.4707, -179.1762, -116.4072, -121.9232, -150.765, -122.8253, -116.7483, -152.2453, -141.6914, -155.4492, -115.6825, 141.6375, -119.4685, -120.247, -121.6948, -116.718, -119.3393, -122.0923, -121.2665, -116.7307, -116.8498, -26.6636, -142.5061, -116.7173, -67.569, -120.7813, -117.4508, -115.6293, -150.6646, -122.7627, 154.5094, -115.6418, -117.8938, -65.1809, -172.8381, -116.7182, -116.3847, -119.52, -122.75, -175.0226, -115.6053, -150.7351, -116.7232, -122.8168, -116.2523, -122.8013, -80.6433, -121.2147, 121.3122, -111.0575, -67.5085, -121.3753, -122.7883, -150.3177, -119.6936, -119.6913, -116.2428, -152.084, -119.0455, -122.8228, -122.8148, -119.4098, -122.1902, -121.7595, -80.9867, -116.3725, -116.3953, -115.8707, -151.1774, -67.2714, -122.7972, -178.4966, -122.6775, 140.6193, -118.202, -68.9732, -122.8127, -121.2113, -95.1491, -121.2715, -121.2703, -122.8025]\n"
       ]
      }
     ],
     "prompt_number": 365
    },
    {
     "cell_type": "code",
     "collapsed": false,
     "input": [
      "latitudedata = [];\n",
      "for i in range(0,len(quakes['features'])):\n",
      "    latitudedata.append(quakes['features'][i]['geometry']['coordinates'][1])\n",
      "\n",
      "print latitudedata"
     ],
     "language": "python",
     "metadata": {},
     "outputs": [
      {
       "output_type": "stream",
       "stream": "stdout",
       "text": [
        "[37.5933, 62.8856, 38.7888, 38.791, 38.8425, 38.8438, 37.6518, 9.8646, 38.8433, 33.496, 46.5963, 39.9974, 38.8135, 61.5135, 38.7872, -1.8545, 63.5579, 63.3268, 38.3145, 63.5517, 26.3305, 40.8975, 62.4876, 34.2318, -6.591, 38.841, 25.0957, 35.0973, 35.0978, 10.0048, 62.807, 61.5215, 18.1506, 36.6077, 9.9959, 9.5626, 35.9468, 62.4046, 40.7387, 19.1298, 38.7858, 34.4393, 38.8157, 39.4002, 59.9481, 38.8232, 32.8742, 38.8425, 38.8082, 38.7863, 19.3365, 38.7898, 35.9798, 26.2676, 36.3169, -6.1459, 37.0207, -33.3517, 33.0338, 47.7195, 60.2912, 38.814, 33.9107, 60.2331, 60.5682, 19.495, 33.2258, 38.2611, 37.0972, 36.8492, 37.6085, 33.5777, 37.651, 40.3248, 36.6418, 33.6772, 33.452, -56.1898, 62.3868, 33.5797, 19.2665, 36.3027, 37.088, 33.1802, 60.0857, 38.789, -7.8853, 33.1862, 36.0988, 19.0296, -17.6501, 33.5792, 33.3068, 39.5888, 38.8067, 51.4485, 33.1672, 62.7421, 33.5778, 38.817, 32.8728, 38.8257, 37.7476, 36.6005, 21.8054, 42.9727, 18.2061, 36.8235, 38.8103, 61.33, 39.6659, 39.663, 33.3525, 60.3459, 34.9013, 38.8308, 38.8113, 37.6565, 46.2057, 46.8783, -1.6961, 33.301, 33.3077, 32.6595, 63.4906, 18.1495, 38.8028, -20.791, 38.4502, 33.6392, 38.4537, 18.4115, 38.7993, 36.6003, 17.24, 36.6422, 36.6452, 38.8362]\n"
       ]
      }
     ],
     "prompt_number": 366
    },
    {
     "cell_type": "code",
     "collapsed": false,
     "input": [
      "altitudedata = [];\n",
      "for i in range(0,len(quakes['features'])):\n",
      "    altitudedata.append(quakes['features'][i]['geometry']['coordinates'][2])\n",
      "\n",
      "print altitudedata"
     ],
     "language": "python",
     "metadata": {},
     "outputs": [
      {
       "output_type": "stream",
       "stream": "stdout",
       "text": [
        "[11, 40, 2.7, 2.4, 2.5, 2.2, 7.2, 20.22, 2.6, 6.5, 3.5, 14.1994, 5.1, 34.8, 2.3, 65.5, 0, 93.2, 17.24, 5, 10.05, 8.84, 91.2, 8.6, 48.73, 2.2, 10, 7.8, 7.5, 58.49, 49.3, 29.1, 102, 5.7, 53.26, 63.74, 2.6, 26.7, 0.3, 11, 1.9, 1.3, 2.8, 4.7, 100, 1, 4.4, 2.2, 2.6, 2, 4, 2.8, 1.7, 7.98, 112.97, 15.39, 8.9, 1, 10.1, 5, 26.3, 3, 17.2, 61.3, 26.6, 4.7, 4.7, 62.4, 17.2, 18, 4.2, 14.6, 29.3, 12, 5.9, 17.1, 9.9, 55.41, 35, 14.3, 43, 11.6, 7, 3.7, 35.1, 2.4, 10, 5.1, 6.6, 125, 19.64, 14.9, 9.5, 13.1911, 1.4, 28.24, 6.3, 92.7, 15.1, 2.7, 4.5, 0, 8.2, 8.7, 59.75, 5.11, 25, 7.7, 3, 31.4, 9.5118, 10.3915, 10.7, 68.8, 22.6, 2.2, 2.6, 7.8, 3.9, 1, 36.73, 12, 8, 9.7, 0.4, 36, 1.8, 587.39, 8.2, 50.27, 7.97, 111, 3.1, 8.7, 112.3, 6.2, 7.2, 2.7]\n"
       ]
      }
     ],
     "prompt_number": 367
    },
    {
     "cell_type": "code",
     "collapsed": false,
     "input": [
      "sourcedata = [];\n",
      "for i in range(0,len(quakes['features'])):\n",
      "    sourcedata.append(quakes['features'][i]['properties']['net'])\n",
      "\n",
      "print sourcedata"
     ],
     "language": "python",
     "metadata": {},
     "outputs": [
      {
       "output_type": "stream",
       "stream": "stdout",
       "text": [
        "[u'nc', u'ak', u'nc', u'nc', u'nc', u'nc', u'nc', u'us', u'nc', u'ci', u'uw', u'nn', u'nc', u'ak', u'nc', u'us', u'ak', u'ak', u'nn', u'ak', u'us', u'nn', u'ak', u'ci', u'us', u'nc', u'us', u'ci', u'ci', u'us', u'ak', u'ak', u'pr', u'nc', u'us', u'us', u'ci', u'ak', u'nc', u'pr', u'nc', u'ci', u'nc', u'nc', u'ak', u'nc', u'ci', u'nc', u'nc', u'nc', u'hv', u'nc', u'nc', u'us', u'us', u'us', u'nc', u'us', u'ci', u'uw', u'ak', u'nc', u'ci', u'ak', u'ak', u'hv', u'ci', u'us', u'nc', u'nc', u'nc', u'ci', u'nc', u'nc', u'nc', u'ci', u'ci', u'us', u'ak', u'ci', u'pr', u'nc', u'nn', u'ci', u'ak', u'nc', u'us', u'ci', u'ci', u'pr', u'us', u'ci', u'ci', u'nn', u'nc', u'us', u'ci', u'ak', u'ci', u'nc', u'ci', u'nc', u'se', u'nc', u'us', u'us', u'pr', u'nc', u'nc', u'ak', u'nn', u'nn', u'ci', u'ak', u'ci', u'nc', u'nc', u'nc', u'uw', u'uw', u'us', u'ci', u'ci', u'ci', u'ak', u'pr', u'nc', u'us', u'nc', u'us', u'nn', u'pr', u'nc', u'nc', u'us', u'nc', u'nc', u'nc']\n"
       ]
      }
     ],
     "prompt_number": 368
    },
    {
     "cell_type": "code",
     "collapsed": false,
     "input": [
      "equidata = [];\n",
      "for i in range(0,len(quakes['features'])):\n",
      "    equidata.append(quakes['features'][i]['properties']['code'])\n",
      "\n",
      "print equidata"
     ],
     "language": "python",
     "metadata": {},
     "outputs": [
      {
       "output_type": "stream",
       "stream": "stdout",
       "text": [
        "[u'72091101', u'10827076', u'72091096', u'72091091', u'72091086', u'72091081', u'72091066', u'b000khgz', u'72091051', u'11381002', u'60614272', u'00426791', u'72091036', u'10827059', u'72091026', u'b000khgc', u'10827051', u'10827043', u'00426788', u'10827035', u'b000khfy', u'00426787', u'10827027', u'11380970', u'b000khfp', u'72091001', u'b000khf8', u'11380962', u'11380954', u'b000khf4', u'10827016', u'10827009', u'13292006', u'72090991', u'b000khf0', u'b000khf3', u'11380938', u'10827000', u'72090976', u'13292005', u'72090971', u'11380922', u'72090956', u'72090951', u'10826987', u'72090946', u'11380906', u'72090931', u'72090926', u'72090921', u'60579366', u'72090901', u'72090891', u'b000khbc', u'b000khb4', u'b000khaq', u'72090876', u'b000khak', u'11380866', u'60614032', u'10826962', u'72090851', u'11380834', u'10826955', u'10826954', u'60579336', u'11380810', u'b000kh94', u'72090846', u'72090841', u'72090821', u'11380794', u'72090811', u'72090791', u'72090776', u'11380778', u'11380770', u'b000kh8x', u'10826924', u'11380762', u'13292004', u'72090766', u'00426766', u'11380754', u'10826916', u'72090756', u'b000kh7w', u'11380738', u'11380730', u'13292003', u'b000kh7k', u'11380714', u'11380706', u'00426763', u'72090731', u'b000kh7b', u'11380690', u'10826898', u'11380634', u'72090706', u'11380618', u'72090701', u'101913a', u'72090696', u'b000kh6e', u'b000kh6c', u'13292002', u'72090681', u'72090676', u'10826883', u'00426762', u'00426775', u'11380578', u'10826875', u'11380562', u'72090661', u'72090646', u'72090651', u'60613897', u'60613892', u'b000kh4s', u'11380546', u'11380538', u'11380530', u'10826859', u'13292001', u'72090621', u'b000kh49', u'72090616', u'b000kh3y', u'00426757', u'13292000', u'72090606', u'72090601', u'b000kh3k', u'72090596', u'72090591', u'72090576']\n"
       ]
      }
     ],
     "prompt_number": 369
    },
    {
     "cell_type": "code",
     "collapsed": false,
     "input": [
      "timedata = [];\n",
      "for i in range(0,len(quakes['features'])):\n",
      "    timedata.append(quakes['features'][i]['properties']['time'])\n",
      "\n",
      "timedata = pd.to_datetime(pd.Series(timedata))\n",
      "\n",
      "print timedata"
     ],
     "language": "python",
     "metadata": {},
     "outputs": [
      {
       "output_type": "stream",
       "stream": "stdout",
       "text": [
        "0    1970-01-01 00:23:02.236371300\n",
        "1       1970-01-01 00:23:02.235999\n",
        "2    1970-01-01 00:23:02.235823800\n",
        "3       1970-01-01 00:23:02.235816\n",
        "4    1970-01-01 00:23:02.235479800\n",
        "5    1970-01-01 00:23:02.235412300\n",
        "6    1970-01-01 00:23:02.233848400\n",
        "7    1970-01-01 00:23:02.233535470\n",
        "8    1970-01-01 00:23:02.232262600\n",
        "9    1970-01-01 00:23:02.231599300\n",
        "10      1970-01-01 00:23:02.231424\n",
        "11   1970-01-01 00:23:02.230995538\n",
        "12   1970-01-01 00:23:02.230375600\n",
        "13      1970-01-01 00:23:02.230215\n",
        "14   1970-01-01 00:23:02.229318700\n",
        "...\n",
        "123   1970-01-01 00:23:02.160372600\n",
        "124      1970-01-01 00:23:02.159389\n",
        "125      1970-01-01 00:23:02.159326\n",
        "126      1970-01-01 00:23:02.158438\n",
        "127   1970-01-01 00:23:02.158220560\n",
        "128   1970-01-01 00:23:02.157927300\n",
        "129   1970-01-01 00:23:02.156311940\n",
        "130   1970-01-01 00:23:02.156257830\n",
        "131   1970-01-01 00:23:02.156114600\n",
        "132   1970-01-01 00:23:02.155463500\n",
        "133   1970-01-01 00:23:02.155344500\n",
        "134   1970-01-01 00:23:02.154910090\n",
        "135   1970-01-01 00:23:02.154322700\n",
        "136   1970-01-01 00:23:02.154283100\n",
        "137   1970-01-01 00:23:02.152951700\n",
        "Length: 138, dtype: datetime64[ns]\n"
       ]
      }
     ],
     "prompt_number": 370
    },
    {
     "cell_type": "code",
     "collapsed": false,
     "input": [
      "nstdata = [];\n",
      "for i in range(0,len(quakes['features'])):\n",
      "    nstdata.append(quakes['features'][i]['properties']['nst'])\n",
      "\n",
      "print nstdata"
     ],
     "language": "python",
     "metadata": {},
     "outputs": [
      {
       "output_type": "stream",
       "stream": "stdout",
       "text": [
        "[None, None, None, None, None, None, None, None, None, 36, None, 9, None, None, None, None, None, None, 5, None, None, 17, None, 18, None, None, None, 27, 34, None, None, None, 13, None, None, None, 9, None, None, 4, None, 13, None, None, None, None, 24, None, None, None, None, None, None, None, None, None, None, None, 21, None, None, None, 35, None, None, None, 13, None, None, None, None, 18, None, None, None, 20, 12, None, None, 17, 10, None, 10, 10, None, None, None, 8, 9, 3, None, 18, 18, 24, None, None, 8, None, 49, None, 33, None, 8, None, None, None, 5, None, None, None, 26, 11, 20, None, 13, None, None, None, None, None, None, 20, 81, 15, None, 7, None, None, None, None, 6, 12, None, None, None, None, None, None]\n"
       ]
      }
     ],
     "prompt_number": 371
    },
    {
     "cell_type": "code",
     "collapsed": false,
     "input": [
      "placedata = [];\n",
      "for i in range(0,len(quakes['features'])):\n",
      "    placedata.append(quakes['features'][i]['properties']['place'])\n",
      "\n",
      "print placedata"
     ],
     "language": "python",
     "metadata": {},
     "outputs": [
      {
       "output_type": "stream",
       "stream": "stdout",
       "text": [
        "[u'15km ESE of Mammoth Lakes, California', u'56km S of Cantwell, Alaska', u'2km ENE of The Geysers, California', u'2km ENE of The Geysers, California', u'9km WNW of Cobb, California', u'9km WNW of Cobb, California', u'17km SE of Yosemite Valley, California', u'3km ENE of Catigbian, Philippines', u'10km WNW of Cobb, California', u'22km SW of La Quinta, California', u'4km ESE of Packwood, Washington', u'41km NNE of Spanish Springs, Nevada', u'7km NW of The Geysers, California', u'3km SE of Butte, Alaska', u'2km ENE of The Geysers, California', u'59km SSW of Painan, Indonesia', u'93km WNW of Cantwell, Alaska', u'24km WSW of Cantwell, Alaska', u'24km WNW of Bridgeport, California', u'92km WNW of Cantwell, Alaska', u'79km SW of Etchoropo, Mexico', u'70km ENE of Gerlach-Empire, Nevada', u'78km WNW of Talkeetna, Alaska', u'15km NNE of Rancho Cucamonga, California', u'79km WSW of Panguna, Papua New Guinea', u'9km WNW of Cobb, California', u'92km E of Ciudad Constitucion, Mexico', u'24km NNW of Barstow, California', u'24km NNW of Barstow, California', u'3km SW of Hinlayagan Ilaud, Philippines', u'56km NNE of Talkeetna, Alaska', u'44km NNW of Valdez, Alaska', u'56km SSE of Punta Cana, Dominican Republic', u'28km NE of Soledad, California', u'7km NW of Danao, Philippines', u'3km SW of Duljo, Philippines', u'30km NW of Searles Valley, California', u'72km NNE of Sutton-Alpine, Alaska', u'55km WNW of Ferndale, California', u'73km N of Tierras Nuevas Poniente, Puerto Rico', u'1km NW of The Geysers, California', u'9km N of Santa Paula, California', u'5km NW of The Geysers, California', u'7km E of Willits, California', u'43km ENE of Old Iliamna, Alaska', u'6km NW of The Geysers, California', u'27km ENE of Pine Valley, California', u'9km WNW of Cobb, California', u'6km NW of The Geysers, California', u'1km NNW of The Geysers, California', u'15km SE of Volcano, Hawaii', u'2km NE of The Geysers, California', u'24km SW of Coalinga, California', u'75km SW of Etchoropo, Mexico', u'43km NE of `Alaqahdari-ye Kiran wa Munjan, Afghanistan', u'Central East Pacific Rise', u'8km E of Gilroy, California', u\"214km S of L'Esperance Rock, New Zealand\", u'18km ESE of Julian, California', u'3km NNW of Lake Marcel-Stillwater, Washington', u'27km S of Sterling, Alaska', u'7km NW of The Geysers, California', u'3km ESE of Cabazon, California', u'39km SE of Redoubt Volcano, Alaska', u'69km NE of Cape Yakataga, Alaska', u'23km WNW of Volcano, Hawaii', u'15km W of Niland, California', u'34km ESE of Ishinomaki, Japan', u'2km NE of Auberry, California', u'16km NE of Mendota, California', u'10km SE of Livermore, California', u'4km WNW of Anza, California', u'23km ESE of Yosemite Valley, California', u'17km ESE of Cottonwood, California', u'20km SSE of Ridgemark, California', u'7km S of Idyllwild-Pine Cove, California', u'1km NE of Aguanga, California', u'65km NNE of Visokoi Island, ', u'108km SSE of Tok, Alaska', u'4km NW of Anza, California', u'99km NNW of San Antonio, Puerto Rico', u'32km ENE of King City, California', u'64km WNW of Beatty, Nevada', u'12km WNW of Calipatria, California', u'47km SE of Cohoe, Alaska', u'1km NNW of The Geysers, California', u'204km SSW of Panguna, Papua New Guinea', u'12km WSW of Niland, California', u'50km N of Inyokern, California', u'80km NNW of Charlotte Amalie, U.S. Virgin Islands', u'164km NE of Neiafu, Tonga', u'4km WNW of Anza, California', u'5km N of Borrego Springs, California', u'17km ESE of Spanish Springs, Nevada', u'2km SW of Cobb, California', u'100km SW of Atka, Alaska', u'9km WNW of Calipatria, California', u'56km NW of Talkeetna, Alaska', u'5km WNW of Anza, California', u'6km NW of The Geysers, California', u'26km ENE of Pine Valley, California', u'6km W of Cobb, California', u'2km N of Alderson, West Virginia', u'21km NNE of Soledad, California', u'62km ESE of Hengchun, Taiwan', u'29km NNW of Afton, Wyoming', u'30km WSW of Stella, Puerto Rico', u'1km NW of Ridgemark, California', u'4km NW of The Geysers, California', u'25km WNW of Anchorage, Alaska', u'2km NNE of Spanish Springs, Nevada', u'2km NE of Spanish Springs, Nevada', u'16km NE of Borrego Springs, California', u'39km ESE of Redoubt Volcano, Alaska', u'11km ENE of Pine Mountain Club, California', u'8km W of Cobb, California', u'6km NW of The Geysers, California', u'17km ESE of Yosemite Valley, California', u'38km NNE of Amboy, Washington', u'30km NNW of Packwood, Washington', u'57km N of Salinas, Ecuador', u'5km N of Borrego Springs, California', u'6km NNW of Borrego Springs, California', u'22km SW of Seeley, California', u'111km W of Cantwell, Alaska', u'12km NW of Puerto Real, Puerto Rico', u'4km NW of The Geysers, California', u'26km SE of Ndoi Island, Fiji', u'3km ENE of Santa Rosa, California', u'98km NE of Hachijo-jima, Japan', u'37km ESE of Hawthorne, Nevada', u'1km S of La Romana, Dominican Republic', u'5km WNW of The Geysers, California', u'22km NNE of Soledad, California', u'13km NW of Palomares, Mexico', u'20km SSE of Ridgemark, California', u'20km SSE of Ridgemark, California', u'7km WNW of Cobb, California']\n"
       ]
      }
     ],
     "prompt_number": 372
    },
    {
     "cell_type": "code",
     "collapsed": false,
     "input": [
      "magdata = [];\n",
      "for i in range(0,len(quakes['features'])):\n",
      "    magdata.append(quakes['features'][i]['properties']['mag'])\n",
      "\n",
      "print magdata"
     ],
     "language": "python",
     "metadata": {},
     "outputs": [
      {
       "output_type": "stream",
       "stream": "stdout",
       "text": [
        "[0.9, 0.4, 1.1, 1.8, 0.9, 0.7, 1.4, 4.9, 0.5, 1.4, 1.6, 1.02, 0.6, 0.6, 1.6, 4.6, 1.7, 3.5, 1.27, 2.5, 4.1, 2.4, 2, 1.1, 5.2, 0.5, 4.6, 1.4, 1.8, 4.9, 1.8, 2.3, 3.2, 1.6, 4.9, 4.7, 1.1, 1.9, 2.6, 2.6, 0.6, 1.5, 0.6, 3.4, 2.5, 1.8, 1.6, 0.4, 1.1, 1.2, 0.7, 1.8, 0.4, 6.5, 4.4, 4.5, 1.3, 4.7, 1.3, 0.9, 2.7, 1.4, 1.5, 2.3, 1, 2, 2.1, 4.9, 2.2, 1.8, 1.5, 1.3, 1.7, 1.8, 1.2, 1.1, 1.1, 5, 3.2, 1.4, 2.9, 1.8, 0.79, 1, 2.1, 1.1, 5.2, 1, 1.8, 3.3, 4.5, 1, 1, 1.78, 0.9, 4.5, 1.2, 1.7, 1.7, 1.2, 1.4, 1, 2.2, 1.7, 4.6, 3.3, 2.3, 2.1, 0.5, 1.7, 1.22, 0.51, 1.1, 1.7, 1.3, 0.6, 1.8, 1.6, 0.3, -0.5, 4.3, 1.1, 2.5, 1.3, 2.5, 2.7, 1.1, 4.5, 1.8, 4.4, 0.5, 3.4, 1.5, 3.3, 4.4, 2, 2.7, 1]\n"
       ]
      }
     ],
     "prompt_number": 373
    },
    {
     "cell_type": "code",
     "collapsed": false,
     "input": [
      "updateddata = [];\n",
      "for i in range(0,len(quakes['features'])):\n",
      "    updateddata.append(quakes['features'][i]['properties']['updated'])\n",
      "    \n",
      "updateddata = pd.to_datetime(pd.Series(updateddata))\n",
      "\n",
      "print updateddata"
     ],
     "language": "python",
     "metadata": {},
     "outputs": [
      {
       "output_type": "stream",
       "stream": "stdout",
       "text": [
        "0    1970-01-01 00:23:02.237526397\n",
        "1    1970-01-01 00:23:02.236432684\n",
        "2    1970-01-01 00:23:02.237290976\n",
        "3    1970-01-01 00:23:02.237646634\n",
        "4    1970-01-01 00:23:02.236985453\n",
        "5    1970-01-01 00:23:02.236985451\n",
        "6    1970-01-01 00:23:02.236329200\n",
        "7    1970-01-01 00:23:02.235972256\n",
        "8    1970-01-01 00:23:02.234826336\n",
        "9    1970-01-01 00:23:02.232228598\n",
        "10   1970-01-01 00:23:02.232130270\n",
        "11   1970-01-01 00:23:02.233167093\n",
        "12   1970-01-01 00:23:02.233263494\n",
        "13   1970-01-01 00:23:02.230355115\n",
        "14      1970-01-01 00:23:02.231349\n",
        "...\n",
        "123   1970-01-01 00:23:02.160524082\n",
        "124   1970-01-01 00:23:02.160063516\n",
        "125   1970-01-01 00:23:02.160347320\n",
        "126   1970-01-01 00:23:02.187396255\n",
        "127   1970-01-01 00:23:02.187203308\n",
        "128   1970-01-01 00:23:02.170209981\n",
        "129   1970-01-01 00:23:02.185269287\n",
        "130   1970-01-01 00:23:02.156418723\n",
        "131   1970-01-01 00:23:02.159199059\n",
        "132   1970-01-01 00:23:02.165285870\n",
        "133   1970-01-01 00:23:02.169337581\n",
        "134   1970-01-01 00:23:02.157001680\n",
        "135   1970-01-01 00:23:02.164930194\n",
        "136   1970-01-01 00:23:02.168492629\n",
        "137   1970-01-01 00:23:02.181897605\n",
        "Length: 138, dtype: datetime64[ns]\n"
       ]
      }
     ],
     "prompt_number": 374
    },
    {
     "cell_type": "code",
     "collapsed": false,
     "input": [
      "dict = {'Longitude': longitudedata,\n",
      "'Latitude': latitudedata,\n",
      "'Altitude': altitudedata,\n",
      "'Datetime': timedata,\n",
      "'Region': placedata,\n",
      "'Magnitude': magdata,\n",
      "'Source': sourcedata,\n",
      "'Nst': nstdata,\n",
      "'Eqid': equidata,\n",
      "'Updated':updateddata\n",
      "}\n",
      "print dict"
     ],
     "language": "python",
     "metadata": {},
     "outputs": [
      {
       "output_type": "stream",
       "stream": "stdout",
       "text": [
        "{'Source': [u'nc', u'ak', u'nc', u'nc', u'nc', u'nc', u'nc', u'us', u'nc', u'ci', u'uw', u'nn', u'nc', u'ak', u'nc', u'us', u'ak', u'ak', u'nn', u'ak', u'us', u'nn', u'ak', u'ci', u'us', u'nc', u'us', u'ci', u'ci', u'us', u'ak', u'ak', u'pr', u'nc', u'us', u'us', u'ci', u'ak', u'nc', u'pr', u'nc', u'ci', u'nc', u'nc', u'ak', u'nc', u'ci', u'nc', u'nc', u'nc', u'hv', u'nc', u'nc', u'us', u'us', u'us', u'nc', u'us', u'ci', u'uw', u'ak', u'nc', u'ci', u'ak', u'ak', u'hv', u'ci', u'us', u'nc', u'nc', u'nc', u'ci', u'nc', u'nc', u'nc', u'ci', u'ci', u'us', u'ak', u'ci', u'pr', u'nc', u'nn', u'ci', u'ak', u'nc', u'us', u'ci', u'ci', u'pr', u'us', u'ci', u'ci', u'nn', u'nc', u'us', u'ci', u'ak', u'ci', u'nc', u'ci', u'nc', u'se', u'nc', u'us', u'us', u'pr', u'nc', u'nc', u'ak', u'nn', u'nn', u'ci', u'ak', u'ci', u'nc', u'nc', u'nc', u'uw', u'uw', u'us', u'ci', u'ci', u'ci', u'ak', u'pr', u'nc', u'us', u'nc', u'us', u'nn', u'pr', u'nc', u'nc', u'us', u'nc', u'nc', u'nc'], 'Updated': 0    1970-01-01 00:23:02.237526397\n",
        "1    1970-01-01 00:23:02.236432684\n",
        "2    1970-01-01 00:23:02.237290976\n",
        "3    1970-01-01 00:23:02.237646634\n",
        "4    1970-01-01 00:23:02.236985453\n",
        "5    1970-01-01 00:23:02.236985451\n",
        "6    1970-01-01 00:23:02.236329200\n",
        "7    1970-01-01 00:23:02.235972256\n",
        "8    1970-01-01 00:23:02.234826336\n",
        "9    1970-01-01 00:23:02.232228598\n",
        "10   1970-01-01 00:23:02.232130270\n",
        "11   1970-01-01 00:23:02.233167093\n",
        "12   1970-01-01 00:23:02.233263494\n",
        "13   1970-01-01 00:23:02.230355115\n",
        "14      1970-01-01 00:23:02.231349\n",
        "...\n",
        "123   1970-01-01 00:23:02.160524082\n",
        "124   1970-01-01 00:23:02.160063516\n",
        "125   1970-01-01 00:23:02.160347320\n",
        "126   1970-01-01 00:23:02.187396255\n",
        "127   1970-01-01 00:23:02.187203308\n",
        "128   1970-01-01 00:23:02.170209981\n",
        "129   1970-01-01 00:23:02.185269287\n",
        "130   1970-01-01 00:23:02.156418723\n",
        "131   1970-01-01 00:23:02.159199059\n",
        "132   1970-01-01 00:23:02.165285870\n",
        "133   1970-01-01 00:23:02.169337581\n",
        "134   1970-01-01 00:23:02.157001680\n",
        "135   1970-01-01 00:23:02.164930194\n",
        "136   1970-01-01 00:23:02.168492629\n",
        "137   1970-01-01 00:23:02.181897605\n",
        "Length: 138, dtype: datetime64[ns], 'Magnitude': [0.9, 0.4, 1.1, 1.8, 0.9, 0.7, 1.4, 4.9, 0.5, 1.4, 1.6, 1.02, 0.6, 0.6, 1.6, 4.6, 1.7, 3.5, 1.27, 2.5, 4.1, 2.4, 2, 1.1, 5.2, 0.5, 4.6, 1.4, 1.8, 4.9, 1.8, 2.3, 3.2, 1.6, 4.9, 4.7, 1.1, 1.9, 2.6, 2.6, 0.6, 1.5, 0.6, 3.4, 2.5, 1.8, 1.6, 0.4, 1.1, 1.2, 0.7, 1.8, 0.4, 6.5, 4.4, 4.5, 1.3, 4.7, 1.3, 0.9, 2.7, 1.4, 1.5, 2.3, 1, 2, 2.1, 4.9, 2.2, 1.8, 1.5, 1.3, 1.7, 1.8, 1.2, 1.1, 1.1, 5, 3.2, 1.4, 2.9, 1.8, 0.79, 1, 2.1, 1.1, 5.2, 1, 1.8, 3.3, 4.5, 1, 1, 1.78, 0.9, 4.5, 1.2, 1.7, 1.7, 1.2, 1.4, 1, 2.2, 1.7, 4.6, 3.3, 2.3, 2.1, 0.5, 1.7, 1.22, 0.51, 1.1, 1.7, 1.3, 0.6, 1.8, 1.6, 0.3, -0.5, 4.3, 1.1, 2.5, 1.3, 2.5, 2.7, 1.1, 4.5, 1.8, 4.4, 0.5, 3.4, 1.5, 3.3, 4.4, 2, 2.7, 1], 'Latitude': [37.5933, 62.8856, 38.7888, 38.791, 38.8425, 38.8438, 37.6518, 9.8646, 38.8433, 33.496, 46.5963, 39.9974, 38.8135, 61.5135, 38.7872, -1.8545, 63.5579, 63.3268, 38.3145, 63.5517, 26.3305, 40.8975, 62.4876, 34.2318, -6.591, 38.841, 25.0957, 35.0973, 35.0978, 10.0048, 62.807, 61.5215, 18.1506, 36.6077, 9.9959, 9.5626, 35.9468, 62.4046, 40.7387, 19.1298, 38.7858, 34.4393, 38.8157, 39.4002, 59.9481, 38.8232, 32.8742, 38.8425, 38.8082, 38.7863, 19.3365, 38.7898, 35.9798, 26.2676, 36.3169, -6.1459, 37.0207, -33.3517, 33.0338, 47.7195, 60.2912, 38.814, 33.9107, 60.2331, 60.5682, 19.495, 33.2258, 38.2611, 37.0972, 36.8492, 37.6085, 33.5777, 37.651, 40.3248, 36.6418, 33.6772, 33.452, -56.1898, 62.3868, 33.5797, 19.2665, 36.3027, 37.088, 33.1802, 60.0857, 38.789, -7.8853, 33.1862, 36.0988, 19.0296, -17.6501, 33.5792, 33.3068, 39.5888, 38.8067, 51.4485, 33.1672, 62.7421, 33.5778, 38.817, 32.8728, 38.8257, 37.7476, 36.6005, 21.8054, 42.9727, 18.2061, 36.8235, 38.8103, 61.33, 39.6659, 39.663, 33.3525, 60.3459, 34.9013, 38.8308, 38.8113, 37.6565, 46.2057, 46.8783, -1.6961, 33.301, 33.3077, 32.6595, 63.4906, 18.1495, 38.8028, -20.791, 38.4502, 33.6392, 38.4537, 18.4115, 38.7993, 36.6003, 17.24, 36.6422, 36.6452, 38.8362], 'Eqid': [u'72091101', u'10827076', u'72091096', u'72091091', u'72091086', u'72091081', u'72091066', u'b000khgz', u'72091051', u'11381002', u'60614272', u'00426791', u'72091036', u'10827059', u'72091026', u'b000khgc', u'10827051', u'10827043', u'00426788', u'10827035', u'b000khfy', u'00426787', u'10827027', u'11380970', u'b000khfp', u'72091001', u'b000khf8', u'11380962', u'11380954', u'b000khf4', u'10827016', u'10827009', u'13292006', u'72090991', u'b000khf0', u'b000khf3', u'11380938', u'10827000', u'72090976', u'13292005', u'72090971', u'11380922', u'72090956', u'72090951', u'10826987', u'72090946', u'11380906', u'72090931', u'72090926', u'72090921', u'60579366', u'72090901', u'72090891', u'b000khbc', u'b000khb4', u'b000khaq', u'72090876', u'b000khak', u'11380866', u'60614032', u'10826962', u'72090851', u'11380834', u'10826955', u'10826954', u'60579336', u'11380810', u'b000kh94', u'72090846', u'72090841', u'72090821', u'11380794', u'72090811', u'72090791', u'72090776', u'11380778', u'11380770', u'b000kh8x', u'10826924', u'11380762', u'13292004', u'72090766', u'00426766', u'11380754', u'10826916', u'72090756', u'b000kh7w', u'11380738', u'11380730', u'13292003', u'b000kh7k', u'11380714', u'11380706', u'00426763', u'72090731', u'b000kh7b', u'11380690', u'10826898', u'11380634', u'72090706', u'11380618', u'72090701', u'101913a', u'72090696', u'b000kh6e', u'b000kh6c', u'13292002', u'72090681', u'72090676', u'10826883', u'00426762', u'00426775', u'11380578', u'10826875', u'11380562', u'72090661', u'72090646', u'72090651', u'60613897', u'60613892', u'b000kh4s', u'11380546', u'11380538', u'11380530', u'10826859', u'13292001', u'72090621', u'b000kh49', u'72090616', u'b000kh3y', u'00426757', u'13292000', u'72090606', u'72090601', u'b000kh3k', u'72090596', u'72090591', u'72090576'], 'Altitude': [11, 40, 2.7, 2.4, 2.5, 2.2, 7.2, 20.22, 2.6, 6.5, 3.5, 14.1994, 5.1, 34.8, 2.3, 65.5, 0, 93.2, 17.24, 5, 10.05, 8.84, 91.2, 8.6, 48.73, 2.2, 10, 7.8, 7.5, 58.49, 49.3, 29.1, 102, 5.7, 53.26, 63.74, 2.6, 26.7, 0.3, 11, 1.9, 1.3, 2.8, 4.7, 100, 1, 4.4, 2.2, 2.6, 2, 4, 2.8, 1.7, 7.98, 112.97, 15.39, 8.9, 1, 10.1, 5, 26.3, 3, 17.2, 61.3, 26.6, 4.7, 4.7, 62.4, 17.2, 18, 4.2, 14.6, 29.3, 12, 5.9, 17.1, 9.9, 55.41, 35, 14.3, 43, 11.6, 7, 3.7, 35.1, 2.4, 10, 5.1, 6.6, 125, 19.64, 14.9, 9.5, 13.1911, 1.4, 28.24, 6.3, 92.7, 15.1, 2.7, 4.5, 0, 8.2, 8.7, 59.75, 5.11, 25, 7.7, 3, 31.4, 9.5118, 10.3915, 10.7, 68.8, 22.6, 2.2, 2.6, 7.8, 3.9, 1, 36.73, 12, 8, 9.7, 0.4, 36, 1.8, 587.39, 8.2, 50.27, 7.97, 111, 3.1, 8.7, 112.3, 6.2, 7.2, 2.7], 'Nst': [None, None, None, None, None, None, None, None, None, 36, None, 9, None, None, None, None, None, None, 5, None, None, 17, None, 18, None, None, None, 27, 34, None, None, None, 13, None, None, None, 9, None, None, 4, None, 13, None, None, None, None, 24, None, None, None, None, None, None, None, None, None, None, None, 21, None, None, None, 35, None, None, None, 13, None, None, None, None, 18, None, None, None, 20, 12, None, None, 17, 10, None, 10, 10, None, None, None, 8, 9, 3, None, 18, 18, 24, None, None, 8, None, 49, None, 33, None, 8, None, None, None, 5, None, None, None, 26, 11, 20, None, 13, None, None, None, None, None, None, 20, 81, 15, None, 7, None, None, None, None, 6, 12, None, None, None, None, None, None], 'Region': [u'15km ESE of Mammoth Lakes, California', u'56km S of Cantwell, Alaska', u'2km ENE of The Geysers, California', u'2km ENE of The Geysers, California', u'9km WNW of Cobb, California', u'9km WNW of Cobb, California', u'17km SE of Yosemite Valley, California', u'3km ENE of Catigbian, Philippines', u'10km WNW of Cobb, California', u'22km SW of La Quinta, California', u'4km ESE of Packwood, Washington', u'41km NNE of Spanish Springs, Nevada', u'7km NW of The Geysers, California', u'3km SE of Butte, Alaska', u'2km ENE of The Geysers, California', u'59km SSW of Painan, Indonesia', u'93km WNW of Cantwell, Alaska', u'24km WSW of Cantwell, Alaska', u'24km WNW of Bridgeport, California', u'92km WNW of Cantwell, Alaska', u'79km SW of Etchoropo, Mexico', u'70km ENE of Gerlach-Empire, Nevada', u'78km WNW of Talkeetna, Alaska', u'15km NNE of Rancho Cucamonga, California', u'79km WSW of Panguna, Papua New Guinea', u'9km WNW of Cobb, California', u'92km E of Ciudad Constitucion, Mexico', u'24km NNW of Barstow, California', u'24km NNW of Barstow, California', u'3km SW of Hinlayagan Ilaud, Philippines', u'56km NNE of Talkeetna, Alaska', u'44km NNW of Valdez, Alaska', u'56km SSE of Punta Cana, Dominican Republic', u'28km NE of Soledad, California', u'7km NW of Danao, Philippines', u'3km SW of Duljo, Philippines', u'30km NW of Searles Valley, California', u'72km NNE of Sutton-Alpine, Alaska', u'55km WNW of Ferndale, California', u'73km N of Tierras Nuevas Poniente, Puerto Rico', u'1km NW of The Geysers, California', u'9km N of Santa Paula, California', u'5km NW of The Geysers, California', u'7km E of Willits, California', u'43km ENE of Old Iliamna, Alaska', u'6km NW of The Geysers, California', u'27km ENE of Pine Valley, California', u'9km WNW of Cobb, California', u'6km NW of The Geysers, California', u'1km NNW of The Geysers, California', u'15km SE of Volcano, Hawaii', u'2km NE of The Geysers, California', u'24km SW of Coalinga, California', u'75km SW of Etchoropo, Mexico', u'43km NE of `Alaqahdari-ye Kiran wa Munjan, Afghanistan', u'Central East Pacific Rise', u'8km E of Gilroy, California', u\"214km S of L'Esperance Rock, New Zealand\", u'18km ESE of Julian, California', u'3km NNW of Lake Marcel-Stillwater, Washington', u'27km S of Sterling, Alaska', u'7km NW of The Geysers, California', u'3km ESE of Cabazon, California', u'39km SE of Redoubt Volcano, Alaska', u'69km NE of Cape Yakataga, Alaska', u'23km WNW of Volcano, Hawaii', u'15km W of Niland, California', u'34km ESE of Ishinomaki, Japan', u'2km NE of Auberry, California', u'16km NE of Mendota, California', u'10km SE of Livermore, California', u'4km WNW of Anza, California', u'23km ESE of Yosemite Valley, California', u'17km ESE of Cottonwood, California', u'20km SSE of Ridgemark, California', u'7km S of Idyllwild-Pine Cove, California', u'1km NE of Aguanga, California', u'65km NNE of Visokoi Island, ', u'108km SSE of Tok, Alaska', u'4km NW of Anza, California', u'99km NNW of San Antonio, Puerto Rico', u'32km ENE of King City, California', u'64km WNW of Beatty, Nevada', u'12km WNW of Calipatria, California', u'47km SE of Cohoe, Alaska', u'1km NNW of The Geysers, California', u'204km SSW of Panguna, Papua New Guinea', u'12km WSW of Niland, California', u'50km N of Inyokern, California', u'80km NNW of Charlotte Amalie, U.S. Virgin Islands', u'164km NE of Neiafu, Tonga', u'4km WNW of Anza, California', u'5km N of Borrego Springs, California', u'17km ESE of Spanish Springs, Nevada', u'2km SW of Cobb, California', u'100km SW of Atka, Alaska', u'9km WNW of Calipatria, California', u'56km NW of Talkeetna, Alaska', u'5km WNW of Anza, California', u'6km NW of The Geysers, California', u'26km ENE of Pine Valley, California', u'6km W of Cobb, California', u'2km N of Alderson, West Virginia', u'21km NNE of Soledad, California', u'62km ESE of Hengchun, Taiwan', u'29km NNW of Afton, Wyoming', u'30km WSW of Stella, Puerto Rico', u'1km NW of Ridgemark, California', u'4km NW of The Geysers, California', u'25km WNW of Anchorage, Alaska', u'2km NNE of Spanish Springs, Nevada', u'2km NE of Spanish Springs, Nevada', u'16km NE of Borrego Springs, California', u'39km ESE of Redoubt Volcano, Alaska', u'11km ENE of Pine Mountain Club, California', u'8km W of Cobb, California', u'6km NW of The Geysers, California', u'17km ESE of Yosemite Valley, California', u'38km NNE of Amboy, Washington', u'30km NNW of Packwood, Washington', u'57km N of Salinas, Ecuador', u'5km N of Borrego Springs, California', u'6km NNW of Borrego Springs, California', u'22km SW of Seeley, California', u'111km W of Cantwell, Alaska', u'12km NW of Puerto Real, Puerto Rico', u'4km NW of The Geysers, California', u'26km SE of Ndoi Island, Fiji', u'3km ENE of Santa Rosa, California', u'98km NE of Hachijo-jima, Japan', u'37km ESE of Hawthorne, Nevada', u'1km S of La Romana, Dominican Republic', u'5km WNW of The Geysers, California', u'22km NNE of Soledad, California', u'13km NW of Palomares, Mexico', u'20km SSE of Ridgemark, California', u'20km SSE of Ridgemark, California', u'7km WNW of Cobb, California'], 'Longitude': [-118.8142, -149.0884, -122.729, -122.7298, -122.8297, -122.8283, -119.411, 124.0282, -122.8392, -116.4465, -121.6133, -119.5372, -122.8235, -148.9898, -122.7275, 100.392, -150.7939, -149.4243, -119.5018, -150.7706, -110.303, -118.6505, -151.5861, -117.5148, 154.8243, -122.8262, -110.7486, -117.1453, -117.1468, 124.3151, -149.8005, -146.5167, -68.1155, -121.0975, 124.1788, 123.7041, -117.6545, -148.3567, -124.883, -66.5101, -122.7645, -119.0537, -122.794, -123.2715, -154.2465, -122.8063, -116.2447, -122.8248, -122.8147, -122.7638, -155.1237, -122.7387, -120.5462, -110.1778, 71.1074, -107.1144, -121.4707, -179.1762, -116.4072, -121.9232, -150.765, -122.8253, -116.7483, -152.2453, -141.6914, -155.4492, -115.6825, 141.6375, -119.4685, -120.247, -121.6948, -116.718, -119.3393, -122.0923, -121.2665, -116.7307, -116.8498, -26.6636, -142.5061, -116.7173, -67.569, -120.7813, -117.4508, -115.6293, -150.6646, -122.7627, 154.5094, -115.6418, -117.8938, -65.1809, -172.8381, -116.7182, -116.3847, -119.52, -122.75, -175.0226, -115.6053, -150.7351, -116.7232, -122.8168, -116.2523, -122.8013, -80.6433, -121.2147, 121.3122, -111.0575, -67.5085, -121.3753, -122.7883, -150.3177, -119.6936, -119.6913, -116.2428, -152.084, -119.0455, -122.8228, -122.8148, -119.4098, -122.1902, -121.7595, -80.9867, -116.3725, -116.3953, -115.8707, -151.1774, -67.2714, -122.7972, -178.4966, -122.6775, 140.6193, -118.202, -68.9732, -122.8127, -121.2113, -95.1491, -121.2715, -121.2703, -122.8025], 'Datetime': 0    1970-01-01 00:23:02.236371300\n",
        "1       1970-01-01 00:23:02.235999\n",
        "2    1970-01-01 00:23:02.235823800\n",
        "3       1970-01-01 00:23:02.235816\n",
        "4    1970-01-01 00:23:02.235479800\n",
        "5    1970-01-01 00:23:02.235412300\n",
        "6    1970-01-01 00:23:02.233848400\n",
        "7    1970-01-01 00:23:02.233535470\n",
        "8    1970-01-01 00:23:02.232262600\n",
        "9    1970-01-01 00:23:02.231599300\n",
        "10      1970-01-01 00:23:02.231424\n",
        "11   1970-01-01 00:23:02.230995538\n",
        "12   1970-01-01 00:23:02.230375600\n",
        "13      1970-01-01 00:23:02.230215\n",
        "14   1970-01-01 00:23:02.229318700\n",
        "...\n",
        "123   1970-01-01 00:23:02.160372600\n",
        "124      1970-01-01 00:23:02.159389\n",
        "125      1970-01-01 00:23:02.159326\n",
        "126      1970-01-01 00:23:02.158438\n",
        "127   1970-01-01 00:23:02.158220560\n",
        "128   1970-01-01 00:23:02.157927300\n",
        "129   1970-01-01 00:23:02.156311940\n",
        "130   1970-01-01 00:23:02.156257830\n",
        "131   1970-01-01 00:23:02.156114600\n",
        "132   1970-01-01 00:23:02.155463500\n",
        "133   1970-01-01 00:23:02.155344500\n",
        "134   1970-01-01 00:23:02.154910090\n",
        "135   1970-01-01 00:23:02.154322700\n",
        "136   1970-01-01 00:23:02.154283100\n",
        "137   1970-01-01 00:23:02.152951700\n",
        "Length: 138, dtype: datetime64[ns]}\n"
       ]
      }
     ],
     "prompt_number": 378
    },
    {
     "cell_type": "code",
     "collapsed": false,
     "input": [
      "import pandas as pd\n",
      "pd.DataFrame.from_dict(dict)[0:4]"
     ],
     "language": "python",
     "metadata": {},
     "outputs": [
      {
       "html": [
        "<div style=\"max-height:1000px;max-width:1500px;overflow:auto;\">\n",
        "<table border=\"1\" class=\"dataframe\">\n",
        "  <thead>\n",
        "    <tr style=\"text-align: right;\">\n",
        "      <th></th>\n",
        "      <th>Altitude</th>\n",
        "      <th>Datetime</th>\n",
        "      <th>Eqid</th>\n",
        "      <th>Latitude</th>\n",
        "      <th>Longitude</th>\n",
        "      <th>Magnitude</th>\n",
        "      <th>Nst</th>\n",
        "      <th>Region</th>\n",
        "      <th>Source</th>\n",
        "      <th>Updated</th>\n",
        "    </tr>\n",
        "  </thead>\n",
        "  <tbody>\n",
        "    <tr>\n",
        "      <th>0</th>\n",
        "      <td> 11.0</td>\n",
        "      <td>1970-01-01 00:23:02.236371300</td>\n",
        "      <td> 72091101</td>\n",
        "      <td> 37.5933</td>\n",
        "      <td>-118.8142</td>\n",
        "      <td> 0.9</td>\n",
        "      <td>NaN</td>\n",
        "      <td> 15km ESE of Mammoth Lakes, California</td>\n",
        "      <td> nc</td>\n",
        "      <td>1970-01-01 00:23:02.237526397</td>\n",
        "    </tr>\n",
        "    <tr>\n",
        "      <th>1</th>\n",
        "      <td> 40.0</td>\n",
        "      <td>   1970-01-01 00:23:02.235999</td>\n",
        "      <td> 10827076</td>\n",
        "      <td> 62.8856</td>\n",
        "      <td>-149.0884</td>\n",
        "      <td> 0.4</td>\n",
        "      <td>NaN</td>\n",
        "      <td>            56km S of Cantwell, Alaska</td>\n",
        "      <td> ak</td>\n",
        "      <td>1970-01-01 00:23:02.236432684</td>\n",
        "    </tr>\n",
        "    <tr>\n",
        "      <th>2</th>\n",
        "      <td>  2.7</td>\n",
        "      <td>1970-01-01 00:23:02.235823800</td>\n",
        "      <td> 72091096</td>\n",
        "      <td> 38.7888</td>\n",
        "      <td>-122.7290</td>\n",
        "      <td> 1.1</td>\n",
        "      <td>NaN</td>\n",
        "      <td>    2km ENE of The Geysers, California</td>\n",
        "      <td> nc</td>\n",
        "      <td>1970-01-01 00:23:02.237290976</td>\n",
        "    </tr>\n",
        "    <tr>\n",
        "      <th>3</th>\n",
        "      <td>  2.4</td>\n",
        "      <td>   1970-01-01 00:23:02.235816</td>\n",
        "      <td> 72091091</td>\n",
        "      <td> 38.7910</td>\n",
        "      <td>-122.7298</td>\n",
        "      <td> 1.8</td>\n",
        "      <td>NaN</td>\n",
        "      <td>    2km ENE of The Geysers, California</td>\n",
        "      <td> nc</td>\n",
        "      <td>1970-01-01 00:23:02.237646634</td>\n",
        "    </tr>\n",
        "  </tbody>\n",
        "</table>\n",
        "</div>"
       ],
       "output_type": "pyout",
       "prompt_number": 381,
       "text": [
        "   Altitude                      Datetime      Eqid  Latitude  Longitude  \\\n",
        "0      11.0 1970-01-01 00:23:02.236371300  72091101   37.5933  -118.8142   \n",
        "1      40.0    1970-01-01 00:23:02.235999  10827076   62.8856  -149.0884   \n",
        "2       2.7 1970-01-01 00:23:02.235823800  72091096   38.7888  -122.7290   \n",
        "3       2.4    1970-01-01 00:23:02.235816  72091091   38.7910  -122.7298   \n",
        "\n",
        "   Magnitude  Nst                                 Region Source  \\\n",
        "0        0.9  NaN  15km ESE of Mammoth Lakes, California     nc   \n",
        "1        0.4  NaN             56km S of Cantwell, Alaska     ak   \n",
        "2        1.1  NaN     2km ENE of The Geysers, California     nc   \n",
        "3        1.8  NaN     2km ENE of The Geysers, California     nc   \n",
        "\n",
        "                        Updated  \n",
        "0 1970-01-01 00:23:02.237526397  \n",
        "1 1970-01-01 00:23:02.236432684  \n",
        "2 1970-01-01 00:23:02.237290976  \n",
        "3 1970-01-01 00:23:02.237646634  "
       ]
      }
     ],
     "prompt_number": 381
    },
    {
     "cell_type": "markdown",
     "metadata": {},
     "source": [
      "Now let's just focus on earthquakes in Alaska (my home state! :)"
     ]
    },
    {
     "cell_type": "code",
     "collapsed": false,
     "input": [
      "alaska = clean_data[clean_data.Src == 'ak']\n",
      "alaska[0:10]"
     ],
     "language": "python",
     "metadata": {},
     "outputs": []
    },
    {
     "cell_type": "code",
     "collapsed": false,
     "input": [
      "from mpl_toolkits.basemap import Basemap\n",
      "\n",
      "def plot_quakes(quakes):\n",
      "    m = Basemap(llcrnrlon=-180,llcrnrlat=50.,\n",
      "                urcrnrlon=-120.,urcrnrlat=72,\n",
      "                resolution='l',area_thresh=1000.,projection='merc',\n",
      "                lat_0=62.9540,lon_0=-149.2697)\n",
      "    m.drawcoastlines()\n",
      "    m.drawcountries()\n",
      "    m.fillcontinents(color='coral',lake_color='blue')\n",
      "    m.drawmapboundary(fill_color='aqua')\n",
      "    x, y = m(quakes.Lon, quakes.Lat)\n",
      "    m.plot(x, y, 'k.')\n",
      "    return m\n",
      "\n",
      "plot_quakes(alaska)"
     ],
     "language": "python",
     "metadata": {},
     "outputs": []
    }
   ],
   "metadata": {}
  }
 ]
}