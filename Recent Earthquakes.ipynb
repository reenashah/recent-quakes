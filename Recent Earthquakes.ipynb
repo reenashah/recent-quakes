{
 "metadata": {
  "name": "Recent Earthquakes"
 },
 "nbformat": 3,
 "nbformat_minor": 0,
 "worksheets": [
  {
   "cells": [
    {
     "cell_type": "markdown",
     "metadata": {},
     "source": [
      "#Recent Earthquakes: Group 11\n",
      "This is Group11's submission of [this Stat157 assignment](https://github.com/stat157/recent-quakes).\n",
      "\n",
      "To ignore the code details and just plot the most recent quakes in northern california, scroll to the bottom."
     ]
    },
    {
     "cell_type": "markdown",
     "metadata": {},
     "source": [
      "##Data Curation\n",
      "\n",
      "Options for how to plot earthquakes:\n",
      "\n",
      "+ Live data [optionally, save it locally]\n",
      "+ Cached Data"
     ]
    },
    {
     "cell_type": "markdown",
     "metadata": {},
     "source": [
      "### Specify program options\n",
      "\n",
      "First, specify whether the data should be stored locally.  Optionally specify a filename."
     ]
    },
    {
     "cell_type": "code",
     "collapsed": false,
     "input": [
      "use_live_data = True\n",
      "# To use cached data, set use_live_data to False.  \n",
      "\n",
      "# If you use cached data, you can optionally specify a different filename below:\n",
      "filename = 'data/f8c7029ef946b7df10fca0fb4908d7f1c3dedd91_2013-10-22_0354.geojson'\n",
      "\n",
      "caching = False\n",
      "# To store the data locally, set caching to True"
     ],
     "language": "python",
     "metadata": {},
     "outputs": []
    },
    {
     "cell_type": "markdown",
     "metadata": {},
     "source": [
      "Next, you can specify the URL from which to retrieve the data.  The list of USGS earthquake data feeds is [here](https://github.com/reenashah/recent-quakes-Group11-data).\n",
      "\n",
      "If you're using cached data, ignore this."
     ]
    },
    {
     "cell_type": "code",
     "collapsed": false,
     "input": [
      "url = 'http://earthquake.usgs.gov/earthquakes/feed/v1.0/summary/1.0_week.geojson'\n",
      "# You can modify this URL to use any USGS earthquake feed\n",
      "# The list of feeds is located at: \n",
      "# http://earthquake.usgs.gov/earthquakes/feed/v1.0/geojson.php"
     ],
     "language": "python",
     "metadata": {},
     "outputs": [],
     "prompt_number": 4
    },
    {
     "cell_type": "markdown",
     "metadata": {},
     "source": [
      "Import the necessary libraries."
     ]
    },
    {
     "cell_type": "code",
     "collapsed": false,
     "input": [
      "import urllib\n",
      "import json\n",
      "import pandas as pd\n",
      "import hashlib\n",
      "from datetime import datetime"
     ],
     "language": "python",
     "metadata": {},
     "outputs": [],
     "prompt_number": 75
    },
    {
     "cell_type": "markdown",
     "metadata": {},
     "source": [
      "### Cache the Live Data\n",
      "This function uses the live data fetched from the URL above and saves it in a directory named `data/`.\n",
      "\n",
      "The filename contains the current datetime and a SHA-1 hash of the data, so you can easily recognize whether data sources are identical.\n",
      "\n",
      "To cache this locally-saved data in [our data repository](https://github.com/reenashah/recent-quakes-Group11-data), submit a pull request!"
     ]
    },
    {
     "cell_type": "code",
     "collapsed": false,
     "input": [
      "def save_live_data(data_url):\n",
      "    \"\"\"\n",
      "    Fetches the data from DATA_URL and saves it.\n",
      "    The filename is of the format: <HASH>_<DATE>_<TIME>.geojson,\n",
      "        where <HASH> is a SHA1 hash of the file at data_url,\n",
      "        <DATE> and <TIME> are the current UTC date and time.\n",
      "\n",
      "    DATA_URL: a string containing the URL of geojson data, e.g. \n",
      "              'http://earthquake.usgs.gov/earthquakes/feed/v1.0/summary/1.0_week.geojson'\n",
      "    \"\"\"\n",
      "    \n",
      "    data = urllib.urlopen(data_url).read()\n",
      "    data_hash = hashlib.sha1(data).hexdigest()\n",
      "    date_str = datetime.utcnow().strftime(\"%Y-%m-%d_%H%M\")\n",
      "    filename = \"data/\" + data_hash + \"_\" + date_str + \".geojson\"\n",
      "    urllib.urlretrieve(data_url, filename)\n",
      "    print \"data retrieved and saved as: \" + filename\n"
     ],
     "language": "python",
     "metadata": {},
     "outputs": [
      {
       "output_type": "stream",
       "stream": "stdout",
       "text": [
        "data retrieved and saved as: data/f8c7029ef946b7df10fca0fb4908d7f1c3dedd91_2013-10-22_0354.geojson\n"
       ]
      }
     ],
     "prompt_number": 77
    },
    {
     "cell_type": "markdown",
     "metadata": {},
     "source": [
      "### Turn JSON data into a useful data frame\n",
      "\n",
      "This section is the meat of the curation: it extracts the JSON data from the URL above, formats it into a Python-Pandas DataFrame, and prints out the first ten rows."
     ]
    },
    {
     "cell_type": "code",
     "collapsed": false,
     "input": [
      "def process_json_data(data):\n",
      "    \"\"\"\n",
      "    Returns a Pandas DataFrame containing relevant quake information.\n",
      "\n",
      "    DATA: A Pandas DataFrame object, produced by plot_data.  \n",
      "    [1,1] should contain the relevant JSON data.\n",
      "    \"\"\"\n",
      "    \n",
      "    features = data[1].values[1]\n",
      "    \n",
      "    Latitude = []    \n",
      "    Longitude = []   \n",
      "    Depth = []    \n",
      "    Magnitude = []    \n",
      "    Place = []\n",
      "    Time = []\n",
      "    Source = []\n",
      "    Eqid = []\n",
      "    Nst = []\n",
      "    \n",
      "    for item in features:\n",
      "        geometry = item['geometry']\n",
      "        properties = item['properties']\n",
      "        Longitude.append(geometry['coordinates'][0])\n",
      "        Latitude.append(geometry['coordinates'][1])\n",
      "        Depth.append(geometry['coordinates'][2])\n",
      "        Source.append(properties['net'])\n",
      "        Eqid.append(properties['code'])\n",
      "        Place.append(properties['place'])\n",
      "        Nst.append(properties['nst'])\n",
      "        Time.append(properties['time'])\n",
      "        Magnitude.append(properties['mag'])\n",
      "    \n",
      "    allQuakes = {\n",
      "                'Src': Source, \n",
      "                'Eqid': Eqid,\n",
      "                'Datetime': Time,\n",
      "                'Place': Place, \n",
      "                'NST': Nst, \n",
      "                'Lat': Latitude, \n",
      "                'Lon': Longitude, \n",
      "                'Depth': Depth,\n",
      "                'Magnitude': Magnitude\n",
      "                }\n",
      "\n",
      "    df = pd.DataFrame.from_dict(allQuakes)\n",
      "    return df"
     ],
     "language": "python",
     "metadata": {},
     "outputs": [
      {
       "ename": "IndentationError",
       "evalue": "expected an indented block (<ipython-input-8-89d984e7f1d0>, line 4)",
       "output_type": "pyerr",
       "traceback": [
        "\u001b[0;36m  File \u001b[0;32m\"<ipython-input-8-89d984e7f1d0>\"\u001b[0;36m, line \u001b[0;32m4\u001b[0m\n\u001b[0;31m    features = data[1].values[1]\u001b[0m\n\u001b[0m           ^\u001b[0m\n\u001b[0;31mIndentationError\u001b[0m\u001b[0;31m:\u001b[0m expected an indented block\n"
       ]
      }
     ],
     "prompt_number": 8
    },
    {
     "cell_type": "heading",
     "level": 3,
     "metadata": {},
     "source": [
      "Plotting"
     ]
    },
    {
     "cell_type": "code",
     "collapsed": false,
     "input": [
      "from mpl_toolkits.basemap import Basemap\n",
      "from numpy import mean\n",
      "\n",
      "def plot_quakes(quakes):\n",
      "    \"\"\"\n",
      "    Plots earthquakes (specified in QUAKES) as slightly-transparent\n",
      "    orange circles with area proportional to magnitude and \n",
      "    color indicating depth.\n",
      "\n",
      "    QUAKES: a Pandas DataFrame object containing earthquake data\n",
      "            with parameters \"Lat\", \"Lon\", \"Magnitude\"\n",
      "    \"\"\"\n",
      "    heatcolors = ('#FFFF00','#FF9900','#CC3333')\n",
      "    heatcolor = None\n",
      "                   \n",
      "    cenlat = quakes['Lat'].mean()\n",
      "    cenlon = quakes['Lon'].mean()\n",
      "    fig = matplotlib.pyplot.figure(figsize=(9,9))\n",
      "    m = Basemap(resolution = 'l', projection='nsper',\n",
      "                area_thresh = 1000., satellite_height = 200000,\n",
      "                lat_0 = cenlat, lon_0 = cenlon)\n",
      "    m.drawcoastlines()\n",
      "    m.drawcountries()\n",
      "    m.drawstates()\n",
      "    m.fillcontinents(color = '#0CAA43', lake_color = 'aqua')\n",
      "    m.drawmapboundary(fill_color = '#0B5BD2')\n",
      "    x, y = m(quakes.Lon, quakes.Lat)\n",
      "    for i in range(0, len(x) - 1):\n",
      "        if quakes.Depth[i:i+1] < 70:\n",
      "            heatcolor = heatcolors[1]\n",
      "        elif 70 <= quakes.Depth[i:i+1] < 300:\n",
      "            heatcolor = heatcolors[2]\n",
      "        else:\n",
      "            heatcolor = heatcolors[3]\n",
      "        m.plot(x[i:i+1], y[i:i+1], heatcolor, \n",
      "               marker = 'o', markersize = (pi*quakes.Magnitude[i:i+1]**2), \n",
      "               alpha = 0.6)\n",
      "    return m"
     ],
     "language": "python",
     "metadata": {},
     "outputs": [],
     "prompt_number": 78
    },
    {
     "cell_type": "code",
     "collapsed": false,
     "input": [
      "def plot_data(caching=False, use_live_data=True, region='nc',\n",
      "              url='http://earthquake.usgs.gov/earthquakes/feed/v1.0/summary/1.0_week.geojson', \n",
      "              filename='data/f8c7029ef946b7df10fca0fb4908d7f1c3dedd91_2013-10-22_0354.geojson'):\n",
      "    \"\"\"\n",
      "    CACHING: If true, saves the data locally.  Will not save unless USE_LIVE_DATA is True.\n",
      "    USE_LIVE_DATA: if true, uses live USGS data fetched from URL.\n",
      "                   if false, uses cached data from FILENAME.\n",
      "    \"\"\"\n",
      "    \n",
      "    if (use_live_data):\n",
      "        data_source = urllib.urlopen(url).read()\n",
      "        if (caching):\n",
      "            save_live_data(url)\n",
      "    else:\n",
      "        f = open(filename, mode='r')\n",
      "        data_source = f.read()\n",
      "    \n",
      "    d = json.loads(data_source)\n",
      "    data = pd.DataFrame(d.items())\n",
      "\n",
      "    df = process_json_data(data)\n",
      "    df_subset = df[df['Src'] == region]\n",
      "    \n",
      "    plot_quakes(df_subset)\n",
      "    "
     ],
     "language": "python",
     "metadata": {},
     "outputs": []
    }
   ],
   "metadata": {}
  }
 ]
}