{
 "metadata": {
  "name": "LoadJsonIntoDF"
 }, 
 "nbformat": 2, 
 "worksheets": [
  {
   "cells": [
    {
     "cell_type": "code", 
     "collapsed": true, 
     "input": [
      "import urllib", 
      "", 
      "import json", 
      "", 
      "import pandas as pd", 
      "", 
      "url = 'http://earthquake.usgs.gov/earthquakes/feed/v1.0/summary/significant_week.geojson'", 
      "", 
      "d = json.loads(urllib.urlopen(url).read())", 
      "", 
      "data = pd.DataFrame(d.items())"
     ], 
     "language": "python", 
     "outputs": [], 
     "prompt_number": 13
    }, 
    {
     "cell_type": "code", 
     "collapsed": true, 
     "input": [
      "features = data[1].values[1]"
     ], 
     "language": "python", 
     "outputs": [], 
     "prompt_number": 14
    }, 
    {
     "cell_type": "code", 
     "collapsed": false, 
     "input": [
      "features"
     ], 
     "language": "python", 
     "outputs": [
      {
       "output_type": "pyout", 
       "prompt_number": 15, 
       "text": [
        "[{u'geometry': {u'coordinates': [-110.1778, 26.2676, 7.98], u'type': u'Point'},", 
        "  u'id': u'usb000khbc',", 
        "  u'properties': {u'alert': u'green',", 
        "   u'cdi': 4.8,", 
        "   u'code': u'b000khbc',", 
        "   u'detail': u'http://earthquake.usgs.gov/earthquakes/feed/v1.0/detail/usb000khbc.geojson',", 
        "   u'dmin': 2.825,", 
        "   u'felt': 30,", 
        "   u'gap': 77,", 
        "   u'ids': u',pt13292000,at00muxgfn,usb000khbc,',", 
        "   u'mag': 6.5,", 
        "   u'magType': u'mwb',", 
        "   u'mmi': 5.17,", 
        "   u'net': u'us',", 
        "   u'nst': None,", 
        "   u'place': u'75km SW of Etchoropo, Mexico',", 
        "   u'rms': 1.3,", 
        "   u'sig': 664,", 
        "   u'sources': u',pt,at,us,',", 
        "   u'status': u'reviewed',", 
        "   u'time': 1382205296970,", 
        "   u'title': u'M 6.5 - 75km SW of Etchoropo, Mexico',", 
        "   u'tsunami': 1,", 
        "   u'type': u'earthquake',", 
        "   u'types': u',cap,dyfi,general-link,geoserve,impact-link,losspager,moment-tensor,nearby-cities,origin,phase-data,shakemap,tectonic-summary,',", 
        "   u'tz': -420,", 
        "   u'updated': 1382224140814,", 
        "   u'url': u'http://earthquake.usgs.gov/earthquakes/eventpage/usb000khbc'},", 
        "  u'type': u'Feature'},", 
        " {u'geometry': {u'coordinates': [154.928, -6.4873, 54.06], u'type': u'Point'},", 
        "  u'id': u'usb000kemb',", 
        "  u'properties': {u'alert': u'green',", 
        "   u'cdi': 2,", 
        "   u'code': u'b000kemb',", 
        "   u'detail': u'http://earthquake.usgs.gov/earthquakes/feed/v1.0/detail/usb000kemb.geojson',", 
        "   u'dmin': 5.771,", 
        "   u'felt': 1,", 
        "   u'gap': 13,", 
        "   u'ids': u',pt13289000,at00murbvq,usb000kemb,gcmt20131016103100,',", 
        "   u'mag': 6.8,", 
        "   u'magType': u'mww',", 
        "   u'mmi': 6.98,", 
        "   u'net': u'us',", 
        "   u'nst': None,", 
        "   u'place': u'64km WSW of Panguna, Papua New Guinea',", 
        "   u'rms': 1.21,", 
        "   u'sig': 712,", 
        "   u'sources': u',pt,at,us,gcmt,',", 
        "   u'status': u'reviewed',", 
        "   u'time': 1381919460930,", 
        "   u'title': u'M 6.8 - 64km WSW of Panguna, Papua New Guinea',", 
        "   u'tsunami': 1,", 
        "   u'type': u'earthquake',", 
        "   u'types': u',cap,dyfi,general-link,geoserve,impact-link,losspager,moment-tensor,nearby-cities,origin,phase-data,shakemap,tectonic-summary,',", 
        "   u'tz': 600,", 
        "   u'updated': 1381935369000,", 
        "   u'url': u'http://earthquake.usgs.gov/earthquakes/eventpage/usb000kemb'},", 
        "  u'type': u'Feature'},", 
        " {u'geometry': {u'coordinates': [124.0115, 9.8662, 20], u'type': u'Point'},", 
        "  u'id': u'usb000kdb4',", 
        "  u'properties': {u'alert': u'orange',", 
        "   u'cdi': 9.1,", 
        "   u'code': u'b000kdb4',", 
        "   u'detail': u'http://earthquake.usgs.gov/earthquakes/feed/v1.0/detail/usb000kdb4.geojson',", 
        "   u'dmin': 3.181,", 
        "   u'felt': 168,", 
        "   u'gap': 25,", 
        "   u'ids': u',usb000kdb4,pt13288000,at00muool4,gcmt20131015001232,',", 
        "   u'mag': 7.1,", 
        "   u'magType': u'mww',", 
        "   u'mmi': 9.39,", 
        "   u'net': u'us',", 
        "   u'nst': None,", 
        "   u'place': u'2km NE of Catigbian, Philippines',", 
        "   u'rms': 1.12,", 
        "   u'sig': 1153,", 
        "   u'sources': u',us,pt,at,gcmt,',", 
        "   u'status': u'reviewed',", 
        "   u'time': 1381795952900,", 
        "   u'title': u'M 7.1 - 2km NE of Catigbian, Philippines',", 
        "   u'tsunami': 1,", 
        "   u'type': u'earthquake',", 
        "   u'types': u',associate,cap,dyfi,finite-fault,general-link,geoserve,impact-link,losspager,moment-tensor,nearby-cities,origin,phase-data,shakemap,tectonic-summary,',", 
        "   u'tz': 480,", 
        "   u'updated': 1382185948996,", 
        "   u'url': u'http://earthquake.usgs.gov/earthquakes/eventpage/usb000kdb4'},", 
        "  u'type': u'Feature'}]"
       ]
      }
     ], 
     "prompt_number": 15
    }, 
    {
     "cell_type": "code", 
     "collapsed": true, 
     "input": [
      "Latitude = []    ", 
      "Longitude = []   ", 
      "Altitude = []    ", 
      "Magnitude = []    ", 
      "Place = []", 
      "Time = []", 
      "", 
      "for item in features:", 
      "    geometry = item['geometry']", 
      "    properties = item['properties']", 
      "    Longitude.append(geometry['coordinates'][0])", 
      "    Latitude.append(geometry['coordinates'][1])", 
      "    Altitude.append(geometry['coordinates'][2])", 
      "    Place.append(properties['place'])", 
      "    Time.append(properties['time'])", 
      "    Magnitude.append(properties['mag'])"
     ], 
     "language": "python", 
     "outputs": [], 
     "prompt_number": 32
    }, 
    {
     "cell_type": "code", 
     "collapsed": true, 
     "input": [
      "allQuakes = {'Time': Time, 'Place': Place, ", 
      "             'Lon': Longitude, 'Lat': Latitude, 'Alt': Altitude,", 
      "             'Mag': Magnitude}"
     ], 
     "language": "python", 
     "outputs": [], 
     "prompt_number": 37
    }, 
    {
     "cell_type": "code", 
     "collapsed": false, 
     "input": [
      "df = pd.DataFrame(allQuakes)", 
      "", 
      "df"
     ], 
     "language": "python", 
     "outputs": [
      {
       "html": [
        "<div style=\"max-height:1000px;max-width:1500px;overflow:auto;\">", 
        "<table border=\"1\" class=\"dataframe\">", 
        "  <thead>", 
        "    <tr style=\"text-align: right;\">", 
        "      <th></th>", 
        "      <th>Alt</th>", 
        "      <th>Lat</th>", 
        "      <th>Lon</th>", 
        "      <th>Mag</th>", 
        "      <th>Place</th>", 
        "      <th>Time</th>", 
        "    </tr>", 
        "  </thead>", 
        "  <tbody>", 
        "    <tr>", 
        "      <th>0</th>", 
        "      <td>  7.98</td>", 
        "      <td> 26.2676</td>", 
        "      <td>-110.1778</td>", 
        "      <td> 6.5</td>", 
        "      <td>          75km SW of Etchoropo, Mexico</td>", 
        "      <td> 1382205296970</td>", 
        "    </tr>", 
        "    <tr>", 
        "      <th>1</th>", 
        "      <td> 54.06</td>", 
        "      <td> -6.4873</td>", 
        "      <td> 154.9280</td>", 
        "      <td> 6.8</td>", 
        "      <td> 64km WSW of Panguna, Papua New Guinea</td>", 
        "      <td> 1381919460930</td>", 
        "    </tr>", 
        "    <tr>", 
        "      <th>2</th>", 
        "      <td> 20.00</td>", 
        "      <td>  9.8662</td>", 
        "      <td> 124.0115</td>", 
        "      <td> 7.1</td>", 
        "      <td>      2km NE of Catigbian, Philippines</td>", 
        "      <td> 1381795952900</td>", 
        "    </tr>", 
        "  </tbody>", 
        "</table>", 
        "</div>"
       ], 
       "output_type": "pyout", 
       "prompt_number": 38, 
       "text": [
        "     Alt      Lat       Lon  Mag                                  Place           Time", 
        "0   7.98  26.2676 -110.1778  6.5           75km SW of Etchoropo, Mexico  1382205296970", 
        "1  54.06  -6.4873  154.9280  6.8  64km WSW of Panguna, Papua New Guinea  1381919460930", 
        "2  20.00   9.8662  124.0115  7.1       2km NE of Catigbian, Philippines  1381795952900"
       ]
      }
     ], 
     "prompt_number": 38
    }, 
    {
     "cell_type": "code", 
     "collapsed": true, 
     "input": [], 
     "language": "python", 
     "outputs": []
    }
   ]
  }
 ]
}